{
 "cells": [
  {
   "cell_type": "markdown",
   "id": "3b0bff40-5b58-4e56-a22c-cb3b04b60f3a",
   "metadata": {},
   "source": [
    "Meine Idee: Ich möchte wissen, wie viel Geld ich ausgeben muss, damit ich im Schnitt alle Karten einer\n",
    "Pokemon Edition haben werde"
   ]
  },
  {
   "cell_type": "code",
   "execution_count": 4,
   "id": "ed33a297-febd-4c9b-b0b2-40dcf4346549",
   "metadata": {},
   "outputs": [],
   "source": [
    "import pandas as pd\n",
    "from random import randint, sample, choices"
   ]
  },
  {
   "cell_type": "markdown",
   "id": "c4ec56c6-4624-490b-9c7e-eb052a3c2739",
   "metadata": {},
   "source": [
    "Wir verwenden die Information aus dem Internet (einfachen)"
   ]
  },
  {
   "cell_type": "markdown",
   "id": "5279f8c1-e388-48a2-a0dd-75abccff7635",
   "metadata": {},
   "source": [
    "- https://www.pokemon.com/de/pokemon-sammelkartenspiel/karmesin-purpur-ewige-rivalen\n",
    "- https://support.pokemon.com/hc/de/articles/360001024394-Was-f%C3%BCr-Pok%C3%A9mon-Sammelkartenspiel-Produkte-sind-verf%C3%BCgbar#:~:text=Jedes%20Boosterpack%20enth%C3%A4lt%2010%20Spielkarten,Sammelkartenspiel%2DLive%20eingel%C3%B6st%20werden%20kann"
   ]
  },
  {
   "cell_type": "code",
   "execution_count": 5,
   "id": "5d382ddd-2ac6-4be2-b764-99352f3cb7b3",
   "metadata": {},
   "outputs": [],
   "source": [
    "karten_in_erweiterung = 240\n",
    "karten_in_booster = 10"
   ]
  },
  {
   "cell_type": "code",
   "execution_count": 8,
   "id": "44048656-67ea-47c7-811a-29ffad1edf61",
   "metadata": {},
   "outputs": [
    {
     "data": {
      "text/plain": [
       "84"
      ]
     },
     "execution_count": 8,
     "metadata": {},
     "output_type": "execute_result"
    }
   ],
   "source": [
    "randint(1, karten_in_erweiterung)"
   ]
  },
  {
   "cell_type": "code",
   "execution_count": 9,
   "id": "7e68e6f7-0ca2-47c3-a51e-b4fbdab393f3",
   "metadata": {},
   "outputs": [
    {
     "data": {
      "text/plain": [
       "[218, 37, 50, 201, 32, 7, 198, 222, 157, 217]"
      ]
     },
     "execution_count": 9,
     "metadata": {},
     "output_type": "execute_result"
    }
   ],
   "source": [
    "sample(range(karten_in_erweiterung), karten_in_booster)"
   ]
  },
  {
   "cell_type": "code",
   "execution_count": 10,
   "id": "fa07156e-3ae2-4ecd-899c-a89c4382aa42",
   "metadata": {},
   "outputs": [],
   "source": [
    "def oeffne_booster(karten_in_booster, karten_in_erweiterung):\n",
    "    return sample(range(karten_in_erweiterung), karten_in_booster)"
   ]
  },
  {
   "cell_type": "code",
   "execution_count": 11,
   "id": "b5d68b47-79d7-4d82-82cc-4b5e2fa667fd",
   "metadata": {},
   "outputs": [
    {
     "data": {
      "text/plain": [
       "[144, 120, 124, 168, 229, 158, 70, 231, 67, 35]"
      ]
     },
     "execution_count": 11,
     "metadata": {},
     "output_type": "execute_result"
    }
   ],
   "source": [
    "oeffne_booster(karten_in_booster, karten_in_erweiterung)"
   ]
  },
  {
   "cell_type": "code",
   "execution_count": 12,
   "id": "c980b019-54d2-44a4-a795-617d2b53374a",
   "metadata": {},
   "outputs": [],
   "source": [
    "max_wiederholung = 500"
   ]
  },
  {
   "cell_type": "markdown",
   "id": "dcba8677-fd91-48c8-8f99-73dfb1bf45f3",
   "metadata": {},
   "source": [
    "öffne max_wiederholung viele booster"
   ]
  },
  {
   "cell_type": "code",
   "execution_count": 19,
   "id": "f5e24d93-984b-4e7a-a05d-b4fc771e7701",
   "metadata": {},
   "outputs": [],
   "source": [
    "karten_box_liste = []"
   ]
  },
  {
   "cell_type": "code",
   "execution_count": 20,
   "id": "01736dc5-11f9-48f6-b186-7a7c7d1db4b6",
   "metadata": {},
   "outputs": [],
   "source": [
    "for _ in range(max_wiederholung):\n",
    "    erhaltenen_karte = oeffne_booster(karten_in_booster, karten_in_erweiterung)\n",
    "    karten_box_liste.append(erhaltenen_karte)"
   ]
  },
  {
   "cell_type": "code",
   "execution_count": 21,
   "id": "9db77c6e-3fd2-41f6-a52b-f6ae760ce2cf",
   "metadata": {},
   "outputs": [
    {
     "data": {
      "text/html": [
       "<div>\n",
       "<style scoped>\n",
       "    .dataframe tbody tr th:only-of-type {\n",
       "        vertical-align: middle;\n",
       "    }\n",
       "\n",
       "    .dataframe tbody tr th {\n",
       "        vertical-align: top;\n",
       "    }\n",
       "\n",
       "    .dataframe thead th {\n",
       "        text-align: right;\n",
       "    }\n",
       "</style>\n",
       "<table border=\"1\" class=\"dataframe\">\n",
       "  <thead>\n",
       "    <tr style=\"text-align: right;\">\n",
       "      <th></th>\n",
       "      <th>0</th>\n",
       "      <th>1</th>\n",
       "      <th>2</th>\n",
       "      <th>3</th>\n",
       "      <th>4</th>\n",
       "      <th>5</th>\n",
       "      <th>6</th>\n",
       "      <th>7</th>\n",
       "      <th>8</th>\n",
       "      <th>9</th>\n",
       "    </tr>\n",
       "  </thead>\n",
       "  <tbody>\n",
       "    <tr>\n",
       "      <th>0</th>\n",
       "      <td>74</td>\n",
       "      <td>84</td>\n",
       "      <td>66</td>\n",
       "      <td>18</td>\n",
       "      <td>235</td>\n",
       "      <td>219</td>\n",
       "      <td>51</td>\n",
       "      <td>98</td>\n",
       "      <td>101</td>\n",
       "      <td>168</td>\n",
       "    </tr>\n",
       "    <tr>\n",
       "      <th>1</th>\n",
       "      <td>180</td>\n",
       "      <td>107</td>\n",
       "      <td>161</td>\n",
       "      <td>158</td>\n",
       "      <td>128</td>\n",
       "      <td>122</td>\n",
       "      <td>146</td>\n",
       "      <td>209</td>\n",
       "      <td>108</td>\n",
       "      <td>42</td>\n",
       "    </tr>\n",
       "    <tr>\n",
       "      <th>2</th>\n",
       "      <td>26</td>\n",
       "      <td>63</td>\n",
       "      <td>82</td>\n",
       "      <td>73</td>\n",
       "      <td>220</td>\n",
       "      <td>121</td>\n",
       "      <td>223</td>\n",
       "      <td>9</td>\n",
       "      <td>158</td>\n",
       "      <td>71</td>\n",
       "    </tr>\n",
       "    <tr>\n",
       "      <th>3</th>\n",
       "      <td>192</td>\n",
       "      <td>84</td>\n",
       "      <td>102</td>\n",
       "      <td>26</td>\n",
       "      <td>200</td>\n",
       "      <td>128</td>\n",
       "      <td>65</td>\n",
       "      <td>51</td>\n",
       "      <td>158</td>\n",
       "      <td>31</td>\n",
       "    </tr>\n",
       "    <tr>\n",
       "      <th>4</th>\n",
       "      <td>230</td>\n",
       "      <td>91</td>\n",
       "      <td>195</td>\n",
       "      <td>176</td>\n",
       "      <td>126</td>\n",
       "      <td>22</td>\n",
       "      <td>119</td>\n",
       "      <td>54</td>\n",
       "      <td>35</td>\n",
       "      <td>161</td>\n",
       "    </tr>\n",
       "    <tr>\n",
       "      <th>...</th>\n",
       "      <td>...</td>\n",
       "      <td>...</td>\n",
       "      <td>...</td>\n",
       "      <td>...</td>\n",
       "      <td>...</td>\n",
       "      <td>...</td>\n",
       "      <td>...</td>\n",
       "      <td>...</td>\n",
       "      <td>...</td>\n",
       "      <td>...</td>\n",
       "    </tr>\n",
       "    <tr>\n",
       "      <th>495</th>\n",
       "      <td>107</td>\n",
       "      <td>45</td>\n",
       "      <td>86</td>\n",
       "      <td>60</td>\n",
       "      <td>145</td>\n",
       "      <td>238</td>\n",
       "      <td>7</td>\n",
       "      <td>106</td>\n",
       "      <td>139</td>\n",
       "      <td>221</td>\n",
       "    </tr>\n",
       "    <tr>\n",
       "      <th>496</th>\n",
       "      <td>49</td>\n",
       "      <td>79</td>\n",
       "      <td>85</td>\n",
       "      <td>62</td>\n",
       "      <td>168</td>\n",
       "      <td>118</td>\n",
       "      <td>175</td>\n",
       "      <td>86</td>\n",
       "      <td>153</td>\n",
       "      <td>199</td>\n",
       "    </tr>\n",
       "    <tr>\n",
       "      <th>497</th>\n",
       "      <td>149</td>\n",
       "      <td>197</td>\n",
       "      <td>143</td>\n",
       "      <td>185</td>\n",
       "      <td>105</td>\n",
       "      <td>93</td>\n",
       "      <td>223</td>\n",
       "      <td>131</td>\n",
       "      <td>34</td>\n",
       "      <td>183</td>\n",
       "    </tr>\n",
       "    <tr>\n",
       "      <th>498</th>\n",
       "      <td>72</td>\n",
       "      <td>188</td>\n",
       "      <td>69</td>\n",
       "      <td>108</td>\n",
       "      <td>75</td>\n",
       "      <td>207</td>\n",
       "      <td>60</td>\n",
       "      <td>170</td>\n",
       "      <td>58</td>\n",
       "      <td>154</td>\n",
       "    </tr>\n",
       "    <tr>\n",
       "      <th>499</th>\n",
       "      <td>45</td>\n",
       "      <td>239</td>\n",
       "      <td>194</td>\n",
       "      <td>223</td>\n",
       "      <td>117</td>\n",
       "      <td>17</td>\n",
       "      <td>195</td>\n",
       "      <td>40</td>\n",
       "      <td>47</td>\n",
       "      <td>141</td>\n",
       "    </tr>\n",
       "  </tbody>\n",
       "</table>\n",
       "<p>500 rows × 10 columns</p>\n",
       "</div>"
      ],
      "text/plain": [
       "       0    1    2    3    4    5    6    7    8    9\n",
       "0     74   84   66   18  235  219   51   98  101  168\n",
       "1    180  107  161  158  128  122  146  209  108   42\n",
       "2     26   63   82   73  220  121  223    9  158   71\n",
       "3    192   84  102   26  200  128   65   51  158   31\n",
       "4    230   91  195  176  126   22  119   54   35  161\n",
       "..   ...  ...  ...  ...  ...  ...  ...  ...  ...  ...\n",
       "495  107   45   86   60  145  238    7  106  139  221\n",
       "496   49   79   85   62  168  118  175   86  153  199\n",
       "497  149  197  143  185  105   93  223  131   34  183\n",
       "498   72  188   69  108   75  207   60  170   58  154\n",
       "499   45  239  194  223  117   17  195   40   47  141\n",
       "\n",
       "[500 rows x 10 columns]"
      ]
     },
     "execution_count": 21,
     "metadata": {},
     "output_type": "execute_result"
    }
   ],
   "source": [
    "karten_box_df = pd.DataFrame(karten_box_liste)\n",
    "karten_box_df"
   ]
  },
  {
   "cell_type": "markdown",
   "id": "a002b37e-0767-41f8-bba9-811802b7e48d",
   "metadata": {},
   "source": [
    "Wie oft habe ich jede Karte bekommen?*"
   ]
  },
  {
   "cell_type": "code",
   "execution_count": 22,
   "id": "d6d6a4c3-f825-400c-a7a3-8bbcef27435e",
   "metadata": {},
   "outputs": [
    {
     "data": {
      "text/plain": [
       "167    33\n",
       "210    32\n",
       "108    31\n",
       "100    30\n",
       "223    30\n",
       "       ..\n",
       "171    12\n",
       "155    11\n",
       "86     11\n",
       "132    10\n",
       "17     10\n",
       "Name: count, Length: 240, dtype: int64"
      ]
     },
     "execution_count": 22,
     "metadata": {},
     "output_type": "execute_result"
    }
   ],
   "source": [
    "karten_box_df.unstack().value_counts()"
   ]
  },
  {
   "cell_type": "code",
   "execution_count": 26,
   "id": "14a63e63-1e80-463f-b0a8-4aa1d82ea5b9",
   "metadata": {},
   "outputs": [
    {
     "data": {
      "image/png": "[encoded data removed]",
      "text/plain": [
       "<Figure size 640x480 with 1 Axes>"
      ]
     },
     "metadata": {},
     "output_type": "display_data"
    }
   ],
   "source": [
    "karten_box_df.unstack().value_counts().head(20).plot(kind=\"bar\", title=\"Wie oft habe ich welche Karte?\");"
   ]
  },
  {
   "cell_type": "code",
   "execution_count": 28,
   "id": "70d24b0c-c5f5-49f1-aac5-755e0f47cf30",
   "metadata": {},
   "outputs": [],
   "source": [
    "sammelalbum = set()\n",
    "anzahl_gesammelter_karten = []"
   ]
  },
  {
   "cell_type": "code",
   "execution_count": 32,
   "id": "6f881b29-fac3-4e9a-b4e3-dd043260975c",
   "metadata": {},
   "outputs": [],
   "source": [
    "for (_, booster) in karten_box_df.iterrows():\n",
    "    # füge aktuellen booster ins album hinzu\n",
    "    sammelalbum.update(booster)\n",
    "    anzahl_gesammelter_karten.append(len(sammelalbum))"
   ]
  },
  {
   "cell_type": "code",
   "execution_count": 34,
   "id": "780fcca7-1db2-428e-a0b0-9da8e0180640",
   "metadata": {},
   "outputs": [],
   "source": [
    "karten_box_df[\"anzahl_gesammelter_karten\"] = anzahl_gesammelter_karten"
   ]
  },
  {
   "cell_type": "code",
   "execution_count": 35,
   "id": "c98b8eaf-8bc4-4b65-bdcc-b51a3f49f45a",
   "metadata": {},
   "outputs": [
    {
     "data": {
      "text/html": [
       "<div>\n",
       "<style scoped>\n",
       "    .dataframe tbody tr th:only-of-type {\n",
       "        vertical-align: middle;\n",
       "    }\n",
       "\n",
       "    .dataframe tbody tr th {\n",
       "        vertical-align: top;\n",
       "    }\n",
       "\n",
       "    .dataframe thead th {\n",
       "        text-align: right;\n",
       "    }\n",
       "</style>\n",
       "<table border=\"1\" class=\"dataframe\">\n",
       "  <thead>\n",
       "    <tr style=\"text-align: right;\">\n",
       "      <th></th>\n",
       "      <th>0</th>\n",
       "      <th>1</th>\n",
       "      <th>2</th>\n",
       "      <th>3</th>\n",
       "      <th>4</th>\n",
       "      <th>5</th>\n",
       "      <th>6</th>\n",
       "      <th>7</th>\n",
       "      <th>8</th>\n",
       "      <th>9</th>\n",
       "      <th>anzahl_gesammelter_karten</th>\n",
       "    </tr>\n",
       "  </thead>\n",
       "  <tbody>\n",
       "    <tr>\n",
       "      <th>0</th>\n",
       "      <td>74</td>\n",
       "      <td>84</td>\n",
       "      <td>66</td>\n",
       "      <td>18</td>\n",
       "      <td>235</td>\n",
       "      <td>219</td>\n",
       "      <td>51</td>\n",
       "      <td>98</td>\n",
       "      <td>101</td>\n",
       "      <td>168</td>\n",
       "      <td>10</td>\n",
       "    </tr>\n",
       "    <tr>\n",
       "      <th>1</th>\n",
       "      <td>180</td>\n",
       "      <td>107</td>\n",
       "      <td>161</td>\n",
       "      <td>158</td>\n",
       "      <td>128</td>\n",
       "      <td>122</td>\n",
       "      <td>146</td>\n",
       "      <td>209</td>\n",
       "      <td>108</td>\n",
       "      <td>42</td>\n",
       "      <td>20</td>\n",
       "    </tr>\n",
       "    <tr>\n",
       "      <th>2</th>\n",
       "      <td>26</td>\n",
       "      <td>63</td>\n",
       "      <td>82</td>\n",
       "      <td>73</td>\n",
       "      <td>220</td>\n",
       "      <td>121</td>\n",
       "      <td>223</td>\n",
       "      <td>9</td>\n",
       "      <td>158</td>\n",
       "      <td>71</td>\n",
       "      <td>29</td>\n",
       "    </tr>\n",
       "    <tr>\n",
       "      <th>3</th>\n",
       "      <td>192</td>\n",
       "      <td>84</td>\n",
       "      <td>102</td>\n",
       "      <td>26</td>\n",
       "      <td>200</td>\n",
       "      <td>128</td>\n",
       "      <td>65</td>\n",
       "      <td>51</td>\n",
       "      <td>158</td>\n",
       "      <td>31</td>\n",
       "      <td>34</td>\n",
       "    </tr>\n",
       "    <tr>\n",
       "      <th>4</th>\n",
       "      <td>230</td>\n",
       "      <td>91</td>\n",
       "      <td>195</td>\n",
       "      <td>176</td>\n",
       "      <td>126</td>\n",
       "      <td>22</td>\n",
       "      <td>119</td>\n",
       "      <td>54</td>\n",
       "      <td>35</td>\n",
       "      <td>161</td>\n",
       "      <td>43</td>\n",
       "    </tr>\n",
       "    <tr>\n",
       "      <th>...</th>\n",
       "      <td>...</td>\n",
       "      <td>...</td>\n",
       "      <td>...</td>\n",
       "      <td>...</td>\n",
       "      <td>...</td>\n",
       "      <td>...</td>\n",
       "      <td>...</td>\n",
       "      <td>...</td>\n",
       "      <td>...</td>\n",
       "      <td>...</td>\n",
       "      <td>...</td>\n",
       "    </tr>\n",
       "    <tr>\n",
       "      <th>495</th>\n",
       "      <td>107</td>\n",
       "      <td>45</td>\n",
       "      <td>86</td>\n",
       "      <td>60</td>\n",
       "      <td>145</td>\n",
       "      <td>238</td>\n",
       "      <td>7</td>\n",
       "      <td>106</td>\n",
       "      <td>139</td>\n",
       "      <td>221</td>\n",
       "      <td>240</td>\n",
       "    </tr>\n",
       "    <tr>\n",
       "      <th>496</th>\n",
       "      <td>49</td>\n",
       "      <td>79</td>\n",
       "      <td>85</td>\n",
       "      <td>62</td>\n",
       "      <td>168</td>\n",
       "      <td>118</td>\n",
       "      <td>175</td>\n",
       "      <td>86</td>\n",
       "      <td>153</td>\n",
       "      <td>199</td>\n",
       "      <td>240</td>\n",
       "    </tr>\n",
       "    <tr>\n",
       "      <th>497</th>\n",
       "      <td>149</td>\n",
       "      <td>197</td>\n",
       "      <td>143</td>\n",
       "      <td>185</td>\n",
       "      <td>105</td>\n",
       "      <td>93</td>\n",
       "      <td>223</td>\n",
       "      <td>131</td>\n",
       "      <td>34</td>\n",
       "      <td>183</td>\n",
       "      <td>240</td>\n",
       "    </tr>\n",
       "    <tr>\n",
       "      <th>498</th>\n",
       "      <td>72</td>\n",
       "      <td>188</td>\n",
       "      <td>69</td>\n",
       "      <td>108</td>\n",
       "      <td>75</td>\n",
       "      <td>207</td>\n",
       "      <td>60</td>\n",
       "      <td>170</td>\n",
       "      <td>58</td>\n",
       "      <td>154</td>\n",
       "      <td>240</td>\n",
       "    </tr>\n",
       "    <tr>\n",
       "      <th>499</th>\n",
       "      <td>45</td>\n",
       "      <td>239</td>\n",
       "      <td>194</td>\n",
       "      <td>223</td>\n",
       "      <td>117</td>\n",
       "      <td>17</td>\n",
       "      <td>195</td>\n",
       "      <td>40</td>\n",
       "      <td>47</td>\n",
       "      <td>141</td>\n",
       "      <td>240</td>\n",
       "    </tr>\n",
       "  </tbody>\n",
       "</table>\n",
       "<p>500 rows × 11 columns</p>\n",
       "</div>"
      ],
      "text/plain": [
       "       0    1    2    3    4    5    6    7    8    9  \\\n",
       "0     74   84   66   18  235  219   51   98  101  168   \n",
       "1    180  107  161  158  128  122  146  209  108   42   \n",
       "2     26   63   82   73  220  121  223    9  158   71   \n",
       "3    192   84  102   26  200  128   65   51  158   31   \n",
       "4    230   91  195  176  126   22  119   54   35  161   \n",
       "..   ...  ...  ...  ...  ...  ...  ...  ...  ...  ...   \n",
       "495  107   45   86   60  145  238    7  106  139  221   \n",
       "496   49   79   85   62  168  118  175   86  153  199   \n",
       "497  149  197  143  185  105   93  223  131   34  183   \n",
       "498   72  188   69  108   75  207   60  170   58  154   \n",
       "499   45  239  194  223  117   17  195   40   47  141   \n",
       "\n",
       "     anzahl_gesammelter_karten  \n",
       "0                           10  \n",
       "1                           20  \n",
       "2                           29  \n",
       "3                           34  \n",
       "4                           43  \n",
       "..                         ...  \n",
       "495                        240  \n",
       "496                        240  \n",
       "497                        240  \n",
       "498                        240  \n",
       "499                        240  \n",
       "\n",
       "[500 rows x 11 columns]"
      ]
     },
     "execution_count": 35,
     "metadata": {},
     "output_type": "execute_result"
    }
   ],
   "source": [
    "karten_box_df"
   ]
  },
  {
   "cell_type": "code",
   "execution_count": 37,
   "id": "5c0d82dc-cf48-4d57-9c72-9146c424109a",
   "metadata": {},
   "outputs": [
    {
     "data": {
      "text/plain": [
       "<Axes: title={'center': 'Wachstum der Kartensammlung'}>"
      ]
     },
     "execution_count": 37,
     "metadata": {},
     "output_type": "execute_result"
    },
    {
     "data": {
      "image/png": "[encoded data removed]",
      "text/plain": [
       "<Figure size 640x480 with 1 Axes>"
      ]
     },
     "metadata": {},
     "output_type": "display_data"
    }
   ],
   "source": [
    "karten_box_df[\"anzahl_gesammelter_karten\"].head(200).plot(title=\"Wachstum der Kartensammlung\")"
   ]
  },
  {
   "cell_type": "code",
   "execution_count": 43,
   "id": "4d475cc6-bd42-40fa-83b5-17002f326251",
   "metadata": {},
   "outputs": [
    {
     "data": {
      "text/plain": [
       "np.int64(107)"
      ]
     },
     "execution_count": 43,
     "metadata": {},
     "output_type": "execute_result"
    }
   ],
   "source": [
    "benoetigte_booster= karten_box_df.query(\"anzahl_gesammelter_karten  == @karten_in_erweiterung\").head(1).index[0]+1\n",
    "benoetigte_booster"
   ]
  },
  {
   "cell_type": "code",
   "execution_count": 44,
   "id": "03a447bf-c70d-452a-8fdc-5029fa66034f",
   "metadata": {},
   "outputs": [],
   "source": [
    "preis_pro_booster = 4.5"
   ]
  },
  {
   "cell_type": "code",
   "execution_count": 45,
   "id": "bdf1e8b0-5f47-465a-b127-0abc80d4d470",
   "metadata": {},
   "outputs": [
    {
     "data": {
      "text/plain": [
       "np.float64(481.5)"
      ]
     },
     "execution_count": 45,
     "metadata": {},
     "output_type": "execute_result"
    }
   ],
   "source": [
    "gesamtpreis = benoetigte_booster * preis_pro_booster\n",
    "gesamtpreis"
   ]
  },
  {
   "cell_type": "markdown",
   "id": "6808e4f3-2d11-4fd7-8f61-b209605ffd6c",
   "metadata": {},
   "source": [
    "Fasse die bisherigen Schritte in einer Funktion zusammen"
   ]
  },
  {
   "cell_type": "code",
   "execution_count": 81,
   "id": "a31c3f84-83af-44c8-bdc3-296859265ea0",
   "metadata": {},
   "outputs": [],
   "source": [
    "def wie_viel_geld_bis_zur_vollstaendigen_erweiterung(karten_in_booster, karten_in_erweiterung,\n",
    "                                                    max_wiederholung, preis_pro_booster):\n",
    "    karten_box_liste = []\n",
    "    for _ in range(max_wiederholung):\n",
    "        erhaltenen_karte = oeffne_booster(karten_in_booster, karten_in_erweiterung)\n",
    "        karten_box_liste.append(erhaltenen_karte)\n",
    "\n",
    "    karten_box_df = pd.DataFrame(karten_box_liste)\n",
    "    anzahl_gesammelter_karten = []\n",
    "    sammelalbum = set()\n",
    "    for (_, booster) in karten_box_df.iterrows():\n",
    "        # füge aktuellen booster ins album hinzu\n",
    "        sammelalbum.update(booster)\n",
    "        anzahl_gesammelter_karten.append(len(sammelalbum))\n",
    "    \n",
    "    karten_box_df[\"anzahl_gesammelter_karten\"] = anzahl_gesammelter_karten\n",
    "    benoetigte_booster = karten_box_df.query(\"anzahl_gesammelter_karten  == @karten_in_erweiterung\").head(1).index[0]+1\n",
    "    gesamtpreis = benoetigte_booster * preis_pro_booster\n",
    "    return gesamtpreis"
   ]
  },
  {
   "cell_type": "code",
   "execution_count": 82,
   "id": "e5e83905-b50c-4a9e-aa76-0c4aa4f4d9ba",
   "metadata": {},
   "outputs": [
    {
     "data": {
      "text/plain": [
       "np.float64(504.0)"
      ]
     },
     "execution_count": 82,
     "metadata": {},
     "output_type": "execute_result"
    }
   ],
   "source": [
    "wie_viel_geld_bis_zur_vollstaendigen_erweiterung(karten_in_booster, karten_in_erweiterung,\n",
    "                                                    max_wiederholung, preis_pro_booster)"
   ]
  },
  {
   "cell_type": "code",
   "execution_count": 83,
   "id": "ae3a1c41-ec71-4299-a022-59e592b0e36e",
   "metadata": {},
   "outputs": [],
   "source": [
    "anzahl_durchgaenge = 1000"
   ]
  },
  {
   "cell_type": "code",
   "execution_count": 84,
   "id": "204a8d6c-3b60-4d05-a99d-9faf5faecdc5",
   "metadata": {},
   "outputs": [],
   "source": [
    "benoetigtes_geld = []\n",
    "for _ in range(anzahl_durchgaenge):\n",
    "    benoetigtes_geld.append(\n",
    "        wie_viel_geld_bis_zur_vollstaendigen_erweiterung(karten_in_booster, karten_in_erweiterung,\n",
    "                                                    max_wiederholung, preis_pro_booster)\n",
    "    )"
   ]
  },
  {
   "cell_type": "code",
   "execution_count": 85,
   "id": "6d0f49bc-4f53-4dd6-9cae-52ad3cda5d48",
   "metadata": {},
   "outputs": [
    {
     "data": {
      "text/plain": [
       "<Axes: >"
      ]
     },
     "execution_count": 85,
     "metadata": {},
     "output_type": "execute_result"
    },
    {
     "data": {
      "image/png": "[encoded data removed]",
      "text/plain": [
       "<Figure size 640x480 with 1 Axes>"
      ]
     },
     "metadata": {},
     "output_type": "display_data"
    }
   ],
   "source": [
    "pd.Series(benoetigtes_geld).hist()"
   ]
  },
  {
   "cell_type": "code",
   "execution_count": 86,
   "id": "6e5702d0-745f-42ac-a875-57c90373508c",
   "metadata": {},
   "outputs": [
    {
     "data": {
      "text/plain": [
       "count    1000.000000\n",
       "mean      639.265500\n",
       "std       132.434751\n",
       "min       405.000000\n",
       "25%       544.500000\n",
       "50%       616.500000\n",
       "75%       707.625000\n",
       "max      1305.000000\n",
       "dtype: float64"
      ]
     },
     "execution_count": 86,
     "metadata": {},
     "output_type": "execute_result"
    }
   ],
   "source": [
    "pd.Series(benoetigtes_geld).describe()"
   ]
  },
  {
   "cell_type": "markdown",
   "id": "73a4cbf1-3067-404f-bcfb-d3a96fb7dc34",
   "metadata": {},
   "source": [
    "benedikt.mangold@th-nuernberg.de"
   ]
  },
  {
   "cell_type": "code",
   "execution_count": null,
   "id": "5136c086-e55f-44ca-ac4a-c32f3f9471bc",
   "metadata": {},
   "outputs": [],
   "source": []
  }
 ],
 "metadata": {
  "kernelspec": {
   "display_name": "Data Analysis",
   "language": "python",
   "name": "data_analysis"
  },
  "language_info": {
   "codemirror_mode": {
    "name": "ipython",
    "version": 3
   },
   "file_extension": ".py",
   "mimetype": "text/x-python",
   "name": "python",
   "nbconvert_exporter": "python",
   "pygments_lexer": "ipython3",
   "version": "3.12.4"
  }
 },
 "nbformat": 4,
 "nbformat_minor": 5
}
